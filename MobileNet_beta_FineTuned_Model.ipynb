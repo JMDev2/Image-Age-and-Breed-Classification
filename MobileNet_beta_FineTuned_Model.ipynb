{
 "cells": [
  {
   "cell_type": "code",
   "execution_count": 3,
   "id": "c71c69bd",
   "metadata": {
    "id": "c71c69bd"
   },
   "outputs": [
    {
     "name": "stderr",
     "output_type": "stream",
     "text": [
      "2024-01-24 19:10:31.245209: I external/local_tsl/tsl/cuda/cudart_stub.cc:31] Could not find cuda drivers on your machine, GPU will not be used.\n",
      "2024-01-24 19:10:34.302349: E external/local_xla/xla/stream_executor/cuda/cuda_dnn.cc:9261] Unable to register cuDNN factory: Attempting to register factory for plugin cuDNN when one has already been registered\n",
      "2024-01-24 19:10:34.302580: E external/local_xla/xla/stream_executor/cuda/cuda_fft.cc:607] Unable to register cuFFT factory: Attempting to register factory for plugin cuFFT when one has already been registered\n",
      "2024-01-24 19:10:35.112950: E external/local_xla/xla/stream_executor/cuda/cuda_blas.cc:1515] Unable to register cuBLAS factory: Attempting to register factory for plugin cuBLAS when one has already been registered\n",
      "2024-01-24 19:10:36.343807: I external/local_tsl/tsl/cuda/cudart_stub.cc:31] Could not find cuda drivers on your machine, GPU will not be used.\n",
      "2024-01-24 19:10:36.347542: I tensorflow/core/platform/cpu_feature_guard.cc:182] This TensorFlow binary is optimized to use available CPU instructions in performance-critical operations.\n",
      "To enable the following instructions: AVX2 FMA, in other operations, rebuild TensorFlow with the appropriate compiler flags.\n",
      "2024-01-24 19:10:46.794823: W tensorflow/compiler/tf2tensorrt/utils/py_utils.cc:38] TF-TRT Warning: Could not find TensorRT\n",
      "/home/jm/anaconda3/lib/python3.9/site-packages/scipy/__init__.py:146: UserWarning: A NumPy version >=1.16.5 and <1.23.0 is required for this version of SciPy (detected version 1.26.3\n",
      "  warnings.warn(f\"A NumPy version >={np_minversion} and <{np_maxversion}\"\n"
     ]
    }
   ],
   "source": [
    "import warnings\n",
    "from tensorflow import keras\n",
    "import numpy as np\n",
    "import tensorflow as tf\n",
    "import matplotlib.pyplot as plt\n",
    "from tensorflow.keras.models import Model\n",
    "from sklearn.metrics import confusion_matrix\n",
    "from tensorflow.keras.optimizers import Adam\n",
    "from tensorflow.keras.preprocessing import image\n",
    "from tensorflow.keras.applications import imagenet_utils\n",
    "from tensorflow.keras.layers import Activation, Dense, GlobalAveragePooling2D\n",
    "from tensorflow.keras.metrics import categorical_crossentropy\n",
    "from tensorflow.keras.preprocessing.image import ImageDataGenerator\n",
    "\n",
    "tf.compat.v1.reset_default_graph()\n",
    "warnings.simplefilter(action='ignore', category=FutureWarning)\n"
   ]
  },
  {
   "cell_type": "markdown",
   "id": "423026d3",
   "metadata": {
    "id": "423026d3"
   },
   "source": [
    "## Load and  Modify MobileNetV2 Model"
   ]
  },
  {
   "cell_type": "code",
   "execution_count": 4,
   "id": "f8829f60",
   "metadata": {
    "id": "f8829f60"
   },
   "outputs": [
    {
     "name": "stderr",
     "output_type": "stream",
     "text": [
      "2024-01-24 19:11:54.701322: E external/local_xla/xla/stream_executor/cuda/cuda_driver.cc:274] failed call to cuInit: CUDA_ERROR_NO_DEVICE: no CUDA-capable device is detected\n"
     ]
    }
   ],
   "source": [
    "# Download the MobileNet Model\n",
    "\n",
    "mobile = tf.keras.applications.mobilenet.MobileNet(input_shape=(224, 224, 3))"
   ]
  },
  {
   "cell_type": "code",
   "execution_count": 5,
   "id": "9374e8ca",
   "metadata": {
    "id": "9374e8ca"
   },
   "outputs": [],
   "source": [
    "def create_model(unit):\n",
    "    x = mobile.layers[-2].output\n",
    "    output = Dense(units=unit, activation='softmax')(x)\n",
    "    model = Model(inputs=mobile.input, outputs=output)\n",
    "    for layer in model.layers:\n",
    "        layer.trinable = False\n",
    "\n",
    "    return model"
   ]
  },
  {
   "cell_type": "code",
   "execution_count": 7,
   "id": "386fc0ce",
   "metadata": {
    "id": "386fc0ce"
   },
   "outputs": [],
   "source": [
    "# Instantiate the Classifier Model (model) and the Breed and Age Classifier Model (model_1)\n",
    "model = create_model(unit=15)\n",
    "model_1 = create_model(unit=16)"
   ]
  },
  {
   "cell_type": "markdown",
   "id": "5119c9cf",
   "metadata": {
    "id": "5119c9cf"
   },
   "source": [
    "## Data Preparation"
   ]
  },
  {
   "cell_type": "markdown",
   "id": "16baa718",
   "metadata": {
    "id": "16baa718"
   },
   "source": [
    "### 1. Classifier"
   ]
  },
  {
   "cell_type": "code",
   "execution_count": 8,
   "id": "ff5ce3a4",
   "metadata": {
    "colab": {
     "base_uri": "https://localhost:8080/"
    },
    "id": "ff5ce3a4",
    "outputId": "36a19d17-b2e6-42f7-893f-2da153ab6684"
   },
   "outputs": [
    {
     "name": "stdout",
     "output_type": "stream",
     "text": [
      "Found 1538 images belonging to 15 classes.\n",
      "Found 453 images belonging to 15 classes.\n",
      "Found 218 images belonging to 15 classes.\n"
     ]
    }
   ],
   "source": [
    "train_path ='/home/jm/Degree/4.2/project/project/classifier-data/train'\n",
    "val_path = '/home/jm/Degree/4.2/project/project/classifier-data/val'\n",
    "test_path = '/home/jm/Degree/4.2/project/project/classifier-data/test'\n",
    "\n",
    "# Define the data generator\n",
    "datagen = ImageDataGenerator(preprocessing_function=tf.keras.applications.mobilenet.preprocess_input)\n",
    "\n",
    "# Generate the image batches for the training, validation, and test datasets\n",
    "train_batches = datagen.flow_from_directory(\n",
    "    train_path,\n",
    "    target_size=(224, 224),\n",
    "    batch_size=16,\n",
    "    class_mode='categorical'\n",
    ")\n",
    "\n",
    "val_batches = datagen.flow_from_directory(\n",
    "    val_path,\n",
    "    target_size=(224, 224),\n",
    "    batch_size=16,\n",
    "    class_mode='categorical',\n",
    "    shuffle=False\n",
    ")\n",
    "\n",
    "test_batches = datagen.flow_from_directory(\n",
    "    test_path,\n",
    "    target_size=(224, 224),\n",
    "    batch_size=38,\n",
    "    class_mode='categorical',\n",
    "    shuffle=False\n",
    ")"
   ]
  },
  {
   "cell_type": "markdown",
   "id": "74219832",
   "metadata": {
    "id": "74219832"
   },
   "source": [
    "### 2. Breed & Age Classifier"
   ]
  },
  {
   "cell_type": "code",
   "execution_count": 9,
   "id": "d8a50f4e",
   "metadata": {
    "colab": {
     "base_uri": "https://localhost:8080/"
    },
    "id": "d8a50f4e",
    "outputId": "58a11a0e-d858-46b8-9e95-4e75ea5fc493"
   },
   "outputs": [
    {
     "name": "stdout",
     "output_type": "stream",
     "text": [
      "Found 854 images belonging to 16 classes.\n",
      "Found 256 images belonging to 16 classes.\n",
      "Found 265 images belonging to 16 classes.\n"
     ]
    }
   ],
   "source": [
    "train_path_1 ='/home/jm/Degree/4.2/project/project/breed-age-data/data/train'\n",
    "val_path_1 = '/home/jm/Degree/4.2/project/project/breed-age-data/data/val'\n",
    "test_path_1 = '/home/jm/Degree/4.2/project/project/breed-age-data/data/test'\n",
    "\n",
    "# Define the data generator\n",
    "datagen = ImageDataGenerator(preprocessing_function=tf.keras.applications.mobilenet.preprocess_input)\n",
    "\n",
    "# Generate the image batches for the training, validation, and test datasets\n",
    "train_batches_1 = datagen.flow_from_directory(\n",
    "    train_path_1,\n",
    "    target_size=(224, 224),\n",
    "    batch_size=16,\n",
    "    class_mode='categorical'\n",
    ")\n",
    "\n",
    "val_batches_1 = datagen.flow_from_directory(\n",
    "    val_path_1,\n",
    "    target_size=(224, 224),\n",
    "    batch_size=16,\n",
    "    class_mode='categorical',\n",
    "    shuffle=False\n",
    ")\n",
    "\n",
    "test_batches_1 = datagen.flow_from_directory(\n",
    "    test_path_1,\n",
    "    target_size=(224, 224),\n",
    "    batch_size=38,\n",
    "    class_mode='categorical',\n",
    "    shuffle=False\n",
    ")"
   ]
  },
  {
   "cell_type": "markdown",
   "id": "7c40f9c0",
   "metadata": {
    "id": "7c40f9c0"
   },
   "source": [
    "## Train the Models"
   ]
  },
  {
   "cell_type": "code",
   "execution_count": 10,
   "id": "cd7ae550",
   "metadata": {
    "id": "cd7ae550"
   },
   "outputs": [],
   "source": [
    "def train_fit(model, x, y, epoch=2):\n",
    "    model.compile(optimizer=Adam(learning_rate=0.0001), loss='categorical_crossentropy', metrics=['accuracy'])\n",
    "    model.fit(x=x, validation_data=y, epochs=epoch, verbose=2)"
   ]
  },
  {
   "cell_type": "code",
   "execution_count": null,
   "id": "BspKu_JDz8Ku",
   "metadata": {
    "colab": {
     "base_uri": "https://localhost:8080/"
    },
    "id": "BspKu_JDz8Ku",
    "outputId": "388e0650-4e0c-4c2b-81c9-55bfe6d4d54d"
   },
   "outputs": [
    {
     "name": "stdout",
     "output_type": "stream",
     "text": [
      "Epoch 1/2\n"
     ]
    },
    {
     "name": "stderr",
     "output_type": "stream",
     "text": [
      "2024-01-24 19:12:39.167282: W external/local_tsl/tsl/framework/cpu_allocator_impl.cc:83] Allocation of 25690112 exceeds 10% of free system memory.\n",
      "2024-01-24 19:12:40.110691: W external/local_tsl/tsl/framework/cpu_allocator_impl.cc:83] Allocation of 25690112 exceeds 10% of free system memory.\n",
      "2024-01-24 19:12:40.309732: W external/local_tsl/tsl/framework/cpu_allocator_impl.cc:83] Allocation of 25690112 exceeds 10% of free system memory.\n",
      "2024-01-24 19:12:40.338074: W external/local_tsl/tsl/framework/cpu_allocator_impl.cc:83] Allocation of 25690112 exceeds 10% of free system memory.\n",
      "2024-01-24 19:12:40.359813: W external/local_tsl/tsl/framework/cpu_allocator_impl.cc:83] Allocation of 51380224 exceeds 10% of free system memory.\n",
      "/home/jm/anaconda3/lib/python3.9/site-packages/PIL/Image.py:970: UserWarning: Palette images with Transparency expressed in bytes should be converted to RGBA images\n",
      "  warnings.warn(\n"
     ]
    }
   ],
   "source": [
    "hist = train_fit(model=model,x=train_batches, y=val_batches)\n",
    "hist_1 = train_fit(model=model_1,x=train_batches_1, y=val_batches_1)"
   ]
  },
  {
   "cell_type": "markdown",
   "id": "d192a846",
   "metadata": {
    "id": "d192a846",
    "tags": []
   },
   "source": [
    "## Test the trained Models"
   ]
  },
  {
   "cell_type": "markdown",
   "id": "a077c0de",
   "metadata": {
    "id": "a077c0de"
   },
   "source": [
    "### 1. Classifier Model"
   ]
  },
  {
   "cell_type": "code",
   "execution_count": 11,
   "id": "38cd06d3",
   "metadata": {
    "colab": {
     "base_uri": "https://localhost:8080/"
    },
    "id": "38cd06d3",
    "outputId": "6d915f5a-bf61-4f80-c5e5-212fc59dfd74",
    "scrolled": true
   },
   "outputs": [
    {
     "name": "stdout",
     "output_type": "stream",
     "text": [
      "6/6 [==============================] - 7s 1s/step - loss: 0.6103 - accuracy: 0.8670\n",
      "Test Loss: 0.6102837920188904\n",
      "Test Accuracy: 0.8669725060462952\n"
     ]
    }
   ],
   "source": [
    "test_labels  = test_batches.classes\n",
    "predictions = model.predict(x=test_batches, verbose=0)\n",
    "\n",
    "# Evaluate on the test set\n",
    "test_loss, test_accuracy = model.evaluate(test_batches)\n",
    "\n",
    "# Print the test loss and accuracy\n",
    "print(f'Test Loss: {test_loss}')\n",
    "print(f'Test Accuracy: {test_accuracy}')"
   ]
  },
  {
   "cell_type": "markdown",
   "id": "15032488",
   "metadata": {
    "id": "15032488"
   },
   "source": [
    "### 2. Breed & Age Classifier Model"
   ]
  },
  {
   "cell_type": "code",
   "execution_count": 12,
   "id": "9e9672c1",
   "metadata": {
    "colab": {
     "base_uri": "https://localhost:8080/"
    },
    "id": "9e9672c1",
    "outputId": "bbf1c072-7627-49e5-976c-4ef639c9acea"
   },
   "outputs": [
    {
     "name": "stdout",
     "output_type": "stream",
     "text": [
      "7/7 [==============================] - 5s 745ms/step - loss: 0.2873 - accuracy: 0.9057\n",
      "Test Loss: 0.2872687578201294\n",
      "Test Accuracy: 0.9056603908538818\n"
     ]
    }
   ],
   "source": [
    "test_labels_1  = test_batches_1.classes\n",
    "predictions_1 = model_1.predict(x=test_batches_1, verbose=0)\n",
    "\n",
    "# Evaluate on the test set\n",
    "test_loss_1, test_accuracy_1 = model_1.evaluate(test_batches_1)\n",
    "\n",
    "# Print the test loss and accuracy\n",
    "print(f'Test Loss: {test_loss_1}')\n",
    "print(f'Test Accuracy: {test_accuracy_1}')"
   ]
  },
  {
   "cell_type": "markdown",
   "id": "e5f38ad1",
   "metadata": {
    "id": "e5f38ad1"
   },
   "source": [
    "## Classes Definition"
   ]
  },
  {
   "cell_type": "code",
   "execution_count": 13,
   "id": "fa42fb68",
   "metadata": {
    "id": "fa42fb68"
   },
   "outputs": [],
   "source": [
    "classes_1 = {0:'abyssinian horse',\n",
    " 1:'adaev horse',\n",
    " 2:'aegidienberger horse',\n",
    " 3:'aging man', 4:'aging woman', 5:'american cat', 6:'boerboel dog', 7:'bulldog', 8:'chihuahua', 9:'egyptian mau cat',\n",
    " 10:'german shepherd', 11:'infant', 12:'man',13:'sokoke cat', 14:'teenage boy', 15:'teenage girl'}\n",
    "def class_pred(predictions):\n",
    "    return classes_1[predictions]"
   ]
  },
  {
   "cell_type": "code",
   "execution_count": 14,
   "id": "5a34933d",
   "metadata": {
    "id": "5a34933d"
   },
   "outputs": [],
   "source": [
    "classes = {\n",
    " 0: \"aeroplane\",\n",
    " 1:\"ball\", 2:\"car\", 3:\"cat\", 4:\"dog\", 5:'frog', 6:'girl', 7:'horse',\n",
    " 8:'infant', 9:'laptop', 10:'man', 11:'puppy', 12:'river', 13:'track',\n",
    " 14:'woman'}\n",
    "def class_predicted(predictions):\n",
    "    return classes[predictions]"
   ]
  },
  {
   "cell_type": "markdown",
   "id": "ee6c6341",
   "metadata": {
    "id": "ee6c6341",
    "tags": []
   },
   "source": [
    "## Predictions"
   ]
  },
  {
   "cell_type": "code",
   "execution_count": 15,
   "id": "y3MFpeRdLJUU",
   "metadata": {
    "id": "y3MFpeRdLJUU",
    "tags": []
   },
   "outputs": [],
   "source": [
    "# def make_predictions(img_path, model=model, model_1=model_1):\n",
    "\n",
    "\n",
    "def make_predictions(img_path, model=model, model_1=model_1):\n",
    "\n",
    "    classes_2 = ['cat', 'horse', 'dog']\n",
    "    classes_3 = ['girl', 'man', 'woman']\n",
    "\n",
    "    try:\n",
    "        img = image.load_img(img_path, target_size=(224, 224))\n",
    "        img_array = image.img_to_array(img)\n",
    "        img_array = np.expand_dims(img_array, axis=0)\n",
    "        img_array = tf.keras.applications.mobilenet.preprocess_input(img_array)\n",
    "\n",
    "        # Make a prediction\n",
    "        predictions = model.predict(img_array)\n",
    "\n",
    "        # Get the predicted class index\n",
    "        predicted_class_index = np.argmax(predictions[0])\n",
    "\n",
    "        # Map the predicted class index to a label\n",
    "        predicted_class_label = class_predicted(predicted_class_index)\n",
    "        print(predicted_class_label)\n",
    "\n",
    "        if predicted_class_label in classes_2:\n",
    "            pred = model_1.predict(img_array)\n",
    "            predicted_class_index_1 = np.argmax(pred[0])\n",
    "            predicted_class_label_1 = class_pred(predicted_class_index_1)\n",
    "\n",
    "            # Display the image with predicted class and breed\n",
    "            img_rgb = image.img_to_array(img)\n",
    "            img_rgb /= 255.0  # Normalize the image\n",
    "            plt.imshow(img_rgb)\n",
    "            plt.title(f\"Predicted class: {predicted_class_label}\\nBreed: {predicted_class_label_1}\")\n",
    "            plt.show()\n",
    "\n",
    "        elif predicted_class_label in classes_3:\n",
    "            pred = model_1.predict(img_array)\n",
    "            predicted_class_index_1 = np.argmax(pred[0])\n",
    "            predicted_class_label_1 = class_pred(predicted_class_index_1)\n",
    "\n",
    "            # Display the image with predicted class and age group\n",
    "            img_rgb = image.img_to_array(img)\n",
    "            img_rgb /= 255.0  # Normalize the image\n",
    "            plt.imshow(img_rgb)\n",
    "            plt.title(f\"Predicted class: {predicted_class_label}\\nAge Group: {predicted_class_label_1}\")\n",
    "            plt.show()\n",
    "\n",
    "        else:\n",
    "            # Display the image with only predicted class\n",
    "            img_rgb = image.img_to_array(img)\n",
    "            img_rgb /= 255.0  # Normalize the image\n",
    "            plt.imshow(img_rgb)\n",
    "            plt.title(f\"Predicted class: {predicted_class_label}\")\n",
    "            plt.show()\n",
    "\n",
    "    except FileNotFoundError:\n",
    "        print(\"Error: Image not loaded. Not available.\")\n"
   ]
  },
  {
   "cell_type": "code",
   "execution_count": 2,
   "id": "63b5c50c",
   "metadata": {
    "colab": {
     "base_uri": "https://localhost:8080/",
     "height": 528
    },
    "id": "63b5c50c",
    "outputId": "a3c64d7c-70f2-461d-d90d-1ee036f224ab"
   },
   "outputs": [
    {
     "ename": "NameError",
     "evalue": "name 'make_predictions' is not defined",
     "output_type": "error",
     "traceback": [
      "\u001b[0;31m---------------------------------------------------------------------------\u001b[0m",
      "\u001b[0;31mNameError\u001b[0m                                 Traceback (most recent call last)",
      "Cell \u001b[0;32mIn[2], line 1\u001b[0m\n\u001b[0;32m----> 1\u001b[0m \u001b[43mmake_predictions\u001b[49m(img_path\u001b[38;5;241m=\u001b[39m\u001b[38;5;124m\"\u001b[39m\u001b[38;5;124m/home/jm/Degree/4.2/project/project/classifier-data/abanera_3.jpg\u001b[39m\u001b[38;5;124m\"\u001b[39m)\n",
      "\u001b[0;31mNameError\u001b[0m: name 'make_predictions' is not defined"
     ]
    }
   ],
   "source": [
    "make_predictions(img_path=\"/home/jm/Degree/4.2/project/project/classifier-data/abanera_3.jpg\")"
   ]
  },
  {
   "cell_type": "code",
   "execution_count": 32,
   "id": "d1c7970b",
   "metadata": {
    "id": "d1c7970b"
   },
   "outputs": [
    {
     "name": "stderr",
     "output_type": "stream",
     "text": [
      "/home/jm/anaconda3/lib/python3.9/site-packages/keras/src/engine/training.py:3079: UserWarning: You are saving your model as an HDF5 file via `model.save()`. This file format is considered legacy. We recommend using instead the native Keras format, e.g. `model.save('my_model.keras')`.\n",
      "  saving_api.save_model(\n"
     ]
    }
   ],
   "source": [
    "model.save('MobileNet_beta_FineTuned_Model.h5')\n"
   ]
  },
  {
   "cell_type": "code",
   "execution_count": 37,
   "id": "efeb9589-d855-4ef5-8544-bab65018eef4",
   "metadata": {},
   "outputs": [],
   "source": [
    "loaded_model = tf.keras.models.load_model('MobileNet_beta_FineTuned_Model.h5')"
   ]
  },
  {
   "cell_type": "code",
   "execution_count": null,
   "id": "48faa479-2c9b-48ac-b16e-bdc68084316f",
   "metadata": {},
   "outputs": [],
   "source": []
  }
 ],
 "metadata": {
  "accelerator": "GPU",
  "colab": {
   "gpuType": "T4",
   "provenance": []
  },
  "kernelspec": {
   "display_name": "Python 3 (ipykernel)",
   "language": "python",
   "name": "python3"
  },
  "language_info": {
   "codemirror_mode": {
    "name": "ipython",
    "version": 3
   },
   "file_extension": ".py",
   "mimetype": "text/x-python",
   "name": "python",
   "nbconvert_exporter": "python",
   "pygments_lexer": "ipython3",
   "version": "3.9.18"
  }
 },
 "nbformat": 4,
 "nbformat_minor": 5
}
